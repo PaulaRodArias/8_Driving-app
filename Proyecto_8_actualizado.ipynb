{
 "cells": [
  {
   "cell_type": "markdown",
   "metadata": {},
   "source": [
    "# Descripción proyecto\n",
    "\n",
    "El presente trabajo analiza los datos de Zuber, una nueva empresa de viajes compartidos que está iniciando operaciones en Chicago. El objetivo es comprender las preferencias de los pasajeros y evaluar el impacto de factores externos en los viajes."
   ]
  },
  {
   "cell_type": "markdown",
   "metadata": {},
   "source": [
    "# Inicialización\n",
    "En la primera parte de este trabajo se realizarán los siguientes procesos: \n",
    "1. Cargar librerías para realizar el análisis.\n",
    "2. Importar dataset. \n",
    "3. Revisar datos para posterior limpieza y enrequecimiento en caso de ser necesario. \n"
   ]
  },
  {
   "cell_type": "markdown",
   "metadata": {},
   "source": [
    "## Descripción de los datos "
   ]
  },
  {
   "cell_type": "code",
   "execution_count": 1,
   "metadata": {},
   "outputs": [],
   "source": [
    "#importar librerías\n",
    "import pandas as pd \n",
    "from matplotlib import pyplot as plt\n",
    "import seaborn as sns\n",
    "from scipy import stats as st"
   ]
  },
  {
   "cell_type": "code",
   "execution_count": 2,
   "metadata": {},
   "outputs": [
    {
     "data": {
      "text/html": [
       "<div>\n",
       "<style scoped>\n",
       "    .dataframe tbody tr th:only-of-type {\n",
       "        vertical-align: middle;\n",
       "    }\n",
       "\n",
       "    .dataframe tbody tr th {\n",
       "        vertical-align: top;\n",
       "    }\n",
       "\n",
       "    .dataframe thead th {\n",
       "        text-align: right;\n",
       "    }\n",
       "</style>\n",
       "<table border=\"1\" class=\"dataframe\">\n",
       "  <thead>\n",
       "    <tr style=\"text-align: right;\">\n",
       "      <th></th>\n",
       "      <th>company_name</th>\n",
       "      <th>trips_amount</th>\n",
       "    </tr>\n",
       "  </thead>\n",
       "  <tbody>\n",
       "    <tr>\n",
       "      <th>0</th>\n",
       "      <td>Flash Cab</td>\n",
       "      <td>19558</td>\n",
       "    </tr>\n",
       "    <tr>\n",
       "      <th>1</th>\n",
       "      <td>Taxi Affiliation Services</td>\n",
       "      <td>11422</td>\n",
       "    </tr>\n",
       "    <tr>\n",
       "      <th>2</th>\n",
       "      <td>Medallion Leasing</td>\n",
       "      <td>10367</td>\n",
       "    </tr>\n",
       "    <tr>\n",
       "      <th>3</th>\n",
       "      <td>Yellow Cab</td>\n",
       "      <td>9888</td>\n",
       "    </tr>\n",
       "    <tr>\n",
       "      <th>4</th>\n",
       "      <td>Taxi Affiliation Service Yellow</td>\n",
       "      <td>9299</td>\n",
       "    </tr>\n",
       "  </tbody>\n",
       "</table>\n",
       "</div>"
      ],
      "text/plain": [
       "                      company_name  trips_amount\n",
       "0                        Flash Cab         19558\n",
       "1        Taxi Affiliation Services         11422\n",
       "2                Medallion Leasing         10367\n",
       "3                       Yellow Cab          9888\n",
       "4  Taxi Affiliation Service Yellow          9299"
      ]
     },
     "execution_count": 2,
     "metadata": {},
     "output_type": "execute_result"
    }
   ],
   "source": [
    "#cargar primer dataset \n",
    "company_trips_df = pd.read_csv('/datasets/project_sql_result_01.csv')\n",
    "company_trips_df.head()"
   ]
  },
  {
   "cell_type": "code",
   "execution_count": 3,
   "metadata": {},
   "outputs": [
    {
     "name": "stdout",
     "output_type": "stream",
     "text": [
      "<class 'pandas.core.frame.DataFrame'>\n",
      "RangeIndex: 64 entries, 0 to 63\n",
      "Data columns (total 2 columns):\n",
      " #   Column        Non-Null Count  Dtype \n",
      "---  ------        --------------  ----- \n",
      " 0   company_name  64 non-null     object\n",
      " 1   trips_amount  64 non-null     int64 \n",
      "dtypes: int64(1), object(1)\n",
      "memory usage: 1.1+ KB\n"
     ]
    }
   ],
   "source": [
    "company_trips_df.info()"
   ]
  },
  {
   "cell_type": "code",
   "execution_count": 4,
   "metadata": {},
   "outputs": [
    {
     "data": {
      "text/plain": [
       "0"
      ]
     },
     "execution_count": 4,
     "metadata": {},
     "output_type": "execute_result"
    }
   ],
   "source": [
    "company_trips_df.duplicated().sum()"
   ]
  },
  {
   "cell_type": "code",
   "execution_count": 5,
   "metadata": {},
   "outputs": [
    {
     "data": {
      "text/html": [
       "<div>\n",
       "<style scoped>\n",
       "    .dataframe tbody tr th:only-of-type {\n",
       "        vertical-align: middle;\n",
       "    }\n",
       "\n",
       "    .dataframe tbody tr th {\n",
       "        vertical-align: top;\n",
       "    }\n",
       "\n",
       "    .dataframe thead th {\n",
       "        text-align: right;\n",
       "    }\n",
       "</style>\n",
       "<table border=\"1\" class=\"dataframe\">\n",
       "  <thead>\n",
       "    <tr style=\"text-align: right;\">\n",
       "      <th></th>\n",
       "      <th>trips_amount</th>\n",
       "    </tr>\n",
       "  </thead>\n",
       "  <tbody>\n",
       "    <tr>\n",
       "      <th>count</th>\n",
       "      <td>64.000000</td>\n",
       "    </tr>\n",
       "    <tr>\n",
       "      <th>mean</th>\n",
       "      <td>2145.484375</td>\n",
       "    </tr>\n",
       "    <tr>\n",
       "      <th>std</th>\n",
       "      <td>3812.310186</td>\n",
       "    </tr>\n",
       "    <tr>\n",
       "      <th>min</th>\n",
       "      <td>2.000000</td>\n",
       "    </tr>\n",
       "    <tr>\n",
       "      <th>25%</th>\n",
       "      <td>20.750000</td>\n",
       "    </tr>\n",
       "    <tr>\n",
       "      <th>50%</th>\n",
       "      <td>178.500000</td>\n",
       "    </tr>\n",
       "    <tr>\n",
       "      <th>75%</th>\n",
       "      <td>2106.500000</td>\n",
       "    </tr>\n",
       "    <tr>\n",
       "      <th>max</th>\n",
       "      <td>19558.000000</td>\n",
       "    </tr>\n",
       "  </tbody>\n",
       "</table>\n",
       "</div>"
      ],
      "text/plain": [
       "       trips_amount\n",
       "count     64.000000\n",
       "mean    2145.484375\n",
       "std     3812.310186\n",
       "min        2.000000\n",
       "25%       20.750000\n",
       "50%      178.500000\n",
       "75%     2106.500000\n",
       "max    19558.000000"
      ]
     },
     "execution_count": 5,
     "metadata": {},
     "output_type": "execute_result"
    }
   ],
   "source": [
    "company_trips_df.describe()"
   ]
  },
  {
   "cell_type": "code",
   "execution_count": 6,
   "metadata": {},
   "outputs": [
    {
     "data": {
      "text/html": [
       "<div>\n",
       "<style scoped>\n",
       "    .dataframe tbody tr th:only-of-type {\n",
       "        vertical-align: middle;\n",
       "    }\n",
       "\n",
       "    .dataframe tbody tr th {\n",
       "        vertical-align: top;\n",
       "    }\n",
       "\n",
       "    .dataframe thead th {\n",
       "        text-align: right;\n",
       "    }\n",
       "</style>\n",
       "<table border=\"1\" class=\"dataframe\">\n",
       "  <thead>\n",
       "    <tr style=\"text-align: right;\">\n",
       "      <th></th>\n",
       "      <th>dropoff_location_name</th>\n",
       "      <th>average_trips</th>\n",
       "    </tr>\n",
       "  </thead>\n",
       "  <tbody>\n",
       "    <tr>\n",
       "      <th>0</th>\n",
       "      <td>Loop</td>\n",
       "      <td>10727.466667</td>\n",
       "    </tr>\n",
       "    <tr>\n",
       "      <th>1</th>\n",
       "      <td>River North</td>\n",
       "      <td>9523.666667</td>\n",
       "    </tr>\n",
       "    <tr>\n",
       "      <th>2</th>\n",
       "      <td>Streeterville</td>\n",
       "      <td>6664.666667</td>\n",
       "    </tr>\n",
       "    <tr>\n",
       "      <th>3</th>\n",
       "      <td>West Loop</td>\n",
       "      <td>5163.666667</td>\n",
       "    </tr>\n",
       "    <tr>\n",
       "      <th>4</th>\n",
       "      <td>O'Hare</td>\n",
       "      <td>2546.900000</td>\n",
       "    </tr>\n",
       "  </tbody>\n",
       "</table>\n",
       "</div>"
      ],
      "text/plain": [
       "  dropoff_location_name  average_trips\n",
       "0                  Loop   10727.466667\n",
       "1           River North    9523.666667\n",
       "2         Streeterville    6664.666667\n",
       "3             West Loop    5163.666667\n",
       "4                O'Hare    2546.900000"
      ]
     },
     "execution_count": 6,
     "metadata": {},
     "output_type": "execute_result"
    }
   ],
   "source": [
    "#cargar segundo dataset \n",
    "trips_df = pd.read_csv('/datasets/project_sql_result_04.csv')\n",
    "trips_df.head()"
   ]
  },
  {
   "cell_type": "code",
   "execution_count": 7,
   "metadata": {},
   "outputs": [
    {
     "name": "stdout",
     "output_type": "stream",
     "text": [
      "<class 'pandas.core.frame.DataFrame'>\n",
      "RangeIndex: 94 entries, 0 to 93\n",
      "Data columns (total 2 columns):\n",
      " #   Column                 Non-Null Count  Dtype  \n",
      "---  ------                 --------------  -----  \n",
      " 0   dropoff_location_name  94 non-null     object \n",
      " 1   average_trips          94 non-null     float64\n",
      "dtypes: float64(1), object(1)\n",
      "memory usage: 1.6+ KB\n"
     ]
    }
   ],
   "source": [
    "trips_df.info()"
   ]
  },
  {
   "cell_type": "code",
   "execution_count": 8,
   "metadata": {},
   "outputs": [
    {
     "data": {
      "text/html": [
       "<div>\n",
       "<style scoped>\n",
       "    .dataframe tbody tr th:only-of-type {\n",
       "        vertical-align: middle;\n",
       "    }\n",
       "\n",
       "    .dataframe tbody tr th {\n",
       "        vertical-align: top;\n",
       "    }\n",
       "\n",
       "    .dataframe thead th {\n",
       "        text-align: right;\n",
       "    }\n",
       "</style>\n",
       "<table border=\"1\" class=\"dataframe\">\n",
       "  <thead>\n",
       "    <tr style=\"text-align: right;\">\n",
       "      <th></th>\n",
       "      <th>average_trips</th>\n",
       "    </tr>\n",
       "  </thead>\n",
       "  <tbody>\n",
       "    <tr>\n",
       "      <th>count</th>\n",
       "      <td>94.000000</td>\n",
       "    </tr>\n",
       "    <tr>\n",
       "      <th>mean</th>\n",
       "      <td>599.953728</td>\n",
       "    </tr>\n",
       "    <tr>\n",
       "      <th>std</th>\n",
       "      <td>1714.591098</td>\n",
       "    </tr>\n",
       "    <tr>\n",
       "      <th>min</th>\n",
       "      <td>1.800000</td>\n",
       "    </tr>\n",
       "    <tr>\n",
       "      <th>25%</th>\n",
       "      <td>14.266667</td>\n",
       "    </tr>\n",
       "    <tr>\n",
       "      <th>50%</th>\n",
       "      <td>52.016667</td>\n",
       "    </tr>\n",
       "    <tr>\n",
       "      <th>75%</th>\n",
       "      <td>298.858333</td>\n",
       "    </tr>\n",
       "    <tr>\n",
       "      <th>max</th>\n",
       "      <td>10727.466667</td>\n",
       "    </tr>\n",
       "  </tbody>\n",
       "</table>\n",
       "</div>"
      ],
      "text/plain": [
       "       average_trips\n",
       "count      94.000000\n",
       "mean      599.953728\n",
       "std      1714.591098\n",
       "min         1.800000\n",
       "25%        14.266667\n",
       "50%        52.016667\n",
       "75%       298.858333\n",
       "max     10727.466667"
      ]
     },
     "execution_count": 8,
     "metadata": {},
     "output_type": "execute_result"
    }
   ],
   "source": [
    "trips_df.describe()"
   ]
  },
  {
   "cell_type": "code",
   "execution_count": 9,
   "metadata": {},
   "outputs": [],
   "source": [
    "#cargar tercer dataset\n",
    "loop_airport_trip_df = pd.read_csv('/datasets/project_sql_result_07.csv')"
   ]
  },
  {
   "cell_type": "code",
   "execution_count": 10,
   "metadata": {},
   "outputs": [
    {
     "data": {
      "text/html": [
       "<div>\n",
       "<style scoped>\n",
       "    .dataframe tbody tr th:only-of-type {\n",
       "        vertical-align: middle;\n",
       "    }\n",
       "\n",
       "    .dataframe tbody tr th {\n",
       "        vertical-align: top;\n",
       "    }\n",
       "\n",
       "    .dataframe thead th {\n",
       "        text-align: right;\n",
       "    }\n",
       "</style>\n",
       "<table border=\"1\" class=\"dataframe\">\n",
       "  <thead>\n",
       "    <tr style=\"text-align: right;\">\n",
       "      <th></th>\n",
       "      <th>start_ts</th>\n",
       "      <th>weather_conditions</th>\n",
       "      <th>duration_seconds</th>\n",
       "    </tr>\n",
       "  </thead>\n",
       "  <tbody>\n",
       "    <tr>\n",
       "      <th>0</th>\n",
       "      <td>2017-11-25 16:00:00</td>\n",
       "      <td>Good</td>\n",
       "      <td>2410.0</td>\n",
       "    </tr>\n",
       "    <tr>\n",
       "      <th>1</th>\n",
       "      <td>2017-11-25 14:00:00</td>\n",
       "      <td>Good</td>\n",
       "      <td>1920.0</td>\n",
       "    </tr>\n",
       "    <tr>\n",
       "      <th>2</th>\n",
       "      <td>2017-11-25 12:00:00</td>\n",
       "      <td>Good</td>\n",
       "      <td>1543.0</td>\n",
       "    </tr>\n",
       "    <tr>\n",
       "      <th>3</th>\n",
       "      <td>2017-11-04 10:00:00</td>\n",
       "      <td>Good</td>\n",
       "      <td>2512.0</td>\n",
       "    </tr>\n",
       "    <tr>\n",
       "      <th>4</th>\n",
       "      <td>2017-11-11 07:00:00</td>\n",
       "      <td>Good</td>\n",
       "      <td>1440.0</td>\n",
       "    </tr>\n",
       "  </tbody>\n",
       "</table>\n",
       "</div>"
      ],
      "text/plain": [
       "              start_ts weather_conditions  duration_seconds\n",
       "0  2017-11-25 16:00:00               Good            2410.0\n",
       "1  2017-11-25 14:00:00               Good            1920.0\n",
       "2  2017-11-25 12:00:00               Good            1543.0\n",
       "3  2017-11-04 10:00:00               Good            2512.0\n",
       "4  2017-11-11 07:00:00               Good            1440.0"
      ]
     },
     "execution_count": 10,
     "metadata": {},
     "output_type": "execute_result"
    }
   ],
   "source": [
    "loop_airport_trip_df.head()"
   ]
  },
  {
   "cell_type": "code",
   "execution_count": 11,
   "metadata": {},
   "outputs": [
    {
     "name": "stdout",
     "output_type": "stream",
     "text": [
      "<class 'pandas.core.frame.DataFrame'>\n",
      "RangeIndex: 1068 entries, 0 to 1067\n",
      "Data columns (total 3 columns):\n",
      " #   Column              Non-Null Count  Dtype  \n",
      "---  ------              --------------  -----  \n",
      " 0   start_ts            1068 non-null   object \n",
      " 1   weather_conditions  1068 non-null   object \n",
      " 2   duration_seconds    1068 non-null   float64\n",
      "dtypes: float64(1), object(2)\n",
      "memory usage: 25.2+ KB\n"
     ]
    }
   ],
   "source": [
    "loop_airport_trip_df.info()"
   ]
  },
  {
   "cell_type": "code",
   "execution_count": 12,
   "metadata": {},
   "outputs": [
    {
     "data": {
      "text/html": [
       "<div>\n",
       "<style scoped>\n",
       "    .dataframe tbody tr th:only-of-type {\n",
       "        vertical-align: middle;\n",
       "    }\n",
       "\n",
       "    .dataframe tbody tr th {\n",
       "        vertical-align: top;\n",
       "    }\n",
       "\n",
       "    .dataframe thead th {\n",
       "        text-align: right;\n",
       "    }\n",
       "</style>\n",
       "<table border=\"1\" class=\"dataframe\">\n",
       "  <thead>\n",
       "    <tr style=\"text-align: right;\">\n",
       "      <th></th>\n",
       "      <th>duration_seconds</th>\n",
       "    </tr>\n",
       "  </thead>\n",
       "  <tbody>\n",
       "    <tr>\n",
       "      <th>count</th>\n",
       "      <td>1068.000000</td>\n",
       "    </tr>\n",
       "    <tr>\n",
       "      <th>mean</th>\n",
       "      <td>2071.731273</td>\n",
       "    </tr>\n",
       "    <tr>\n",
       "      <th>std</th>\n",
       "      <td>769.461125</td>\n",
       "    </tr>\n",
       "    <tr>\n",
       "      <th>min</th>\n",
       "      <td>0.000000</td>\n",
       "    </tr>\n",
       "    <tr>\n",
       "      <th>25%</th>\n",
       "      <td>1438.250000</td>\n",
       "    </tr>\n",
       "    <tr>\n",
       "      <th>50%</th>\n",
       "      <td>1980.000000</td>\n",
       "    </tr>\n",
       "    <tr>\n",
       "      <th>75%</th>\n",
       "      <td>2580.000000</td>\n",
       "    </tr>\n",
       "    <tr>\n",
       "      <th>max</th>\n",
       "      <td>7440.000000</td>\n",
       "    </tr>\n",
       "  </tbody>\n",
       "</table>\n",
       "</div>"
      ],
      "text/plain": [
       "       duration_seconds\n",
       "count       1068.000000\n",
       "mean        2071.731273\n",
       "std          769.461125\n",
       "min            0.000000\n",
       "25%         1438.250000\n",
       "50%         1980.000000\n",
       "75%         2580.000000\n",
       "max         7440.000000"
      ]
     },
     "execution_count": 12,
     "metadata": {},
     "output_type": "execute_result"
    }
   ],
   "source": [
    "loop_airport_trip_df.describe()"
   ]
  },
  {
   "cell_type": "markdown",
   "metadata": {},
   "source": [
    "### Conclusiones\n",
    "Para iniciar con el análisis exploratorio de datos se importaron las libreías necesarias y cargaron los datos. Este análisis se va a realizar utilizando dos datasets: company_trips_df y trips_df. Al revisar los datos, podemos dar cuenta que company_trips_df tiene 2 columnas, 64 filas y no posee valores nules.Por otro lado, trips_df tiene dos columnas y 94 filas, sin valores nulos tampoco. En el caso de weather_df, este dataframe tiene 2 columnas y 1068 filas y 0 NULL \n",
    "Además, en las 3 tablas se aplican los métodos info y describe. Los tipos de datos en cada columna corresponde a la información en cada fila. "
   ]
  },
  {
   "cell_type": "markdown",
   "metadata": {},
   "source": [
    "## Preprocesamiento de datos "
   ]
  },
  {
   "cell_type": "code",
   "execution_count": 13,
   "metadata": {},
   "outputs": [],
   "source": [
    "#cambiar tipo de dato en DataFrame 'trips_df'\n",
    "trips_df['average_trips'] = trips_df['average_trips'].astype('int')"
   ]
  },
  {
   "cell_type": "code",
   "execution_count": 14,
   "metadata": {},
   "outputs": [
    {
     "name": "stdout",
     "output_type": "stream",
     "text": [
      "<class 'pandas.core.frame.DataFrame'>\n",
      "RangeIndex: 94 entries, 0 to 93\n",
      "Data columns (total 2 columns):\n",
      " #   Column                 Non-Null Count  Dtype \n",
      "---  ------                 --------------  ----- \n",
      " 0   dropoff_location_name  94 non-null     object\n",
      " 1   average_trips          94 non-null     int64 \n",
      "dtypes: int64(1), object(1)\n",
      "memory usage: 1.6+ KB\n"
     ]
    }
   ],
   "source": [
    "#revisar cambio\n",
    "trips_df.info()"
   ]
  },
  {
   "cell_type": "markdown",
   "metadata": {},
   "source": [
    "### Conclusiones\n",
    "Se modifica el tipo de dato de la coluna average_trips a entero porque los decimales no aportan información y así se presenta todo de manera más limpia."
   ]
  },
  {
   "cell_type": "markdown",
   "metadata": {},
   "source": [
    "## Análisis de datos"
   ]
  },
  {
   "cell_type": "code",
   "execution_count": 15,
   "metadata": {},
   "outputs": [
    {
     "data": {
      "text/html": [
       "<div>\n",
       "<style scoped>\n",
       "    .dataframe tbody tr th:only-of-type {\n",
       "        vertical-align: middle;\n",
       "    }\n",
       "\n",
       "    .dataframe tbody tr th {\n",
       "        vertical-align: top;\n",
       "    }\n",
       "\n",
       "    .dataframe thead th {\n",
       "        text-align: right;\n",
       "    }\n",
       "</style>\n",
       "<table border=\"1\" class=\"dataframe\">\n",
       "  <thead>\n",
       "    <tr style=\"text-align: right;\">\n",
       "      <th></th>\n",
       "      <th>company_name</th>\n",
       "      <th>trips_amount</th>\n",
       "    </tr>\n",
       "  </thead>\n",
       "  <tbody>\n",
       "    <tr>\n",
       "      <th>0</th>\n",
       "      <td>Flash Cab</td>\n",
       "      <td>19558</td>\n",
       "    </tr>\n",
       "    <tr>\n",
       "      <th>1</th>\n",
       "      <td>Taxi Affiliation Services</td>\n",
       "      <td>11422</td>\n",
       "    </tr>\n",
       "    <tr>\n",
       "      <th>2</th>\n",
       "      <td>Medallion Leasing</td>\n",
       "      <td>10367</td>\n",
       "    </tr>\n",
       "    <tr>\n",
       "      <th>3</th>\n",
       "      <td>Yellow Cab</td>\n",
       "      <td>9888</td>\n",
       "    </tr>\n",
       "    <tr>\n",
       "      <th>4</th>\n",
       "      <td>Taxi Affiliation Service Yellow</td>\n",
       "      <td>9299</td>\n",
       "    </tr>\n",
       "    <tr>\n",
       "      <th>5</th>\n",
       "      <td>Chicago Carriage Cab Corp</td>\n",
       "      <td>9181</td>\n",
       "    </tr>\n",
       "    <tr>\n",
       "      <th>6</th>\n",
       "      <td>City Service</td>\n",
       "      <td>8448</td>\n",
       "    </tr>\n",
       "    <tr>\n",
       "      <th>7</th>\n",
       "      <td>Sun Taxi</td>\n",
       "      <td>7701</td>\n",
       "    </tr>\n",
       "    <tr>\n",
       "      <th>8</th>\n",
       "      <td>Star North Management LLC</td>\n",
       "      <td>7455</td>\n",
       "    </tr>\n",
       "    <tr>\n",
       "      <th>9</th>\n",
       "      <td>Blue Ribbon Taxi Association Inc.</td>\n",
       "      <td>5953</td>\n",
       "    </tr>\n",
       "  </tbody>\n",
       "</table>\n",
       "</div>"
      ],
      "text/plain": [
       "                        company_name  trips_amount\n",
       "0                          Flash Cab         19558\n",
       "1          Taxi Affiliation Services         11422\n",
       "2                  Medallion Leasing         10367\n",
       "3                         Yellow Cab          9888\n",
       "4    Taxi Affiliation Service Yellow          9299\n",
       "5          Chicago Carriage Cab Corp          9181\n",
       "6                       City Service          8448\n",
       "7                           Sun Taxi          7701\n",
       "8          Star North Management LLC          7455\n",
       "9  Blue Ribbon Taxi Association Inc.          5953"
      ]
     },
     "execution_count": 15,
     "metadata": {},
     "output_type": "execute_result"
    }
   ],
   "source": [
    "#top10 compañías \n",
    "top10_companies = (company_trips_df.sort_values(by='trips_amount', ascending=False)\n",
    "                                   .head(10))\n",
    "top10_companies"
   ]
  },
  {
   "cell_type": "code",
   "execution_count": 16,
   "metadata": {},
   "outputs": [
    {
     "data": {
      "image/png": "[encoded data removed]",
      "text/plain": [
       "<Figure size 800x800 with 1 Axes>"
      ]
     },
     "metadata": {},
     "output_type": "display_data"
    }
   ],
   "source": [
    "#graficar top10_companies\n",
    "top10_companies.plot(kind='bar',\n",
    "                     title='Most frequent dropoff city',\n",
    "                     x= 'company_name',\n",
    "                     xlabel='Company',\n",
    "                     ylabel='Trips',\n",
    "                     figsize=[8, 8])    \n",
    "\n",
    "plt.legend().remove()\n",
    "plt.show()"
   ]
  },
  {
   "cell_type": "code",
   "execution_count": 17,
   "metadata": {},
   "outputs": [
    {
     "data": {
      "text/html": [
       "<div>\n",
       "<style scoped>\n",
       "    .dataframe tbody tr th:only-of-type {\n",
       "        vertical-align: middle;\n",
       "    }\n",
       "\n",
       "    .dataframe tbody tr th {\n",
       "        vertical-align: top;\n",
       "    }\n",
       "\n",
       "    .dataframe thead th {\n",
       "        text-align: right;\n",
       "    }\n",
       "</style>\n",
       "<table border=\"1\" class=\"dataframe\">\n",
       "  <thead>\n",
       "    <tr style=\"text-align: right;\">\n",
       "      <th></th>\n",
       "      <th>dropoff_location_name</th>\n",
       "      <th>average_trips</th>\n",
       "    </tr>\n",
       "  </thead>\n",
       "  <tbody>\n",
       "    <tr>\n",
       "      <th>0</th>\n",
       "      <td>Loop</td>\n",
       "      <td>10727</td>\n",
       "    </tr>\n",
       "    <tr>\n",
       "      <th>1</th>\n",
       "      <td>River North</td>\n",
       "      <td>9523</td>\n",
       "    </tr>\n",
       "    <tr>\n",
       "      <th>2</th>\n",
       "      <td>Streeterville</td>\n",
       "      <td>6664</td>\n",
       "    </tr>\n",
       "    <tr>\n",
       "      <th>3</th>\n",
       "      <td>West Loop</td>\n",
       "      <td>5163</td>\n",
       "    </tr>\n",
       "    <tr>\n",
       "      <th>4</th>\n",
       "      <td>O'Hare</td>\n",
       "      <td>2546</td>\n",
       "    </tr>\n",
       "    <tr>\n",
       "      <th>5</th>\n",
       "      <td>Lake View</td>\n",
       "      <td>2420</td>\n",
       "    </tr>\n",
       "    <tr>\n",
       "      <th>6</th>\n",
       "      <td>Grant Park</td>\n",
       "      <td>2068</td>\n",
       "    </tr>\n",
       "    <tr>\n",
       "      <th>7</th>\n",
       "      <td>Museum Campus</td>\n",
       "      <td>1510</td>\n",
       "    </tr>\n",
       "    <tr>\n",
       "      <th>8</th>\n",
       "      <td>Gold Coast</td>\n",
       "      <td>1364</td>\n",
       "    </tr>\n",
       "    <tr>\n",
       "      <th>9</th>\n",
       "      <td>Sheffield &amp; DePaul</td>\n",
       "      <td>1259</td>\n",
       "    </tr>\n",
       "  </tbody>\n",
       "</table>\n",
       "</div>"
      ],
      "text/plain": [
       "  dropoff_location_name  average_trips\n",
       "0                  Loop          10727\n",
       "1           River North           9523\n",
       "2         Streeterville           6664\n",
       "3             West Loop           5163\n",
       "4                O'Hare           2546\n",
       "5             Lake View           2420\n",
       "6            Grant Park           2068\n",
       "7         Museum Campus           1510\n",
       "8            Gold Coast           1364\n",
       "9    Sheffield & DePaul           1259"
      ]
     },
     "execution_count": 17,
     "metadata": {},
     "output_type": "execute_result"
    }
   ],
   "source": [
    "#top 10 ciudades donde finalizan los datos\n",
    "top10_dropoff = (trips_df.sort_values(by='average_trips', ascending=False)\n",
    "                        .head(10))\n",
    "top10_dropoff"
   ]
  },
  {
   "cell_type": "code",
   "execution_count": 18,
   "metadata": {},
   "outputs": [
    {
     "data": {
      "image/png": "[encoded data removed]",
      "text/plain": [
       "<Figure size 800x800 with 1 Axes>"
      ]
     },
     "metadata": {},
     "output_type": "display_data"
    }
   ],
   "source": [
    "#graficar top10_dropoff\n",
    "top10_dropoff.plot(kind='bar',\n",
    "                   title='Most frequent dropoff city',\n",
    "                   x= 'dropoff_location_name',\n",
    "                   xlabel='City',\n",
    "                   ylabel='Trips',\n",
    "                   figsize=[8, 8])\n",
    "\n",
    "plt.legend().remove()\n",
    "plt.show()"
   ]
  },
  {
   "cell_type": "markdown",
   "metadata": {},
   "source": [
    "### Conclusiones \n",
    "Al revisar las compañías más frecuentes, nos damos cuenta que Flash Cab tiene casi el doble de viajes que la segunda compañía más utilizada. Esto puede deberse a mejores tarifas o mayor cantidad de convenios lo que al final se traduce en un precio más económico por viaje en realación a otras empresas. \n",
    "\n",
    "Si nos fijamos en los destinos más populares, Loop y River North son los destinos más recurrentes seguido por Streeterville. La razón de estos destinos puede deberse a que Loop es el distrito de negocios de Chicago por lo que se puede inferir que varios recorridos son hechos por personas que trabajan en esa zona. En el caso de Streeterville y especialmente River North, estos son destinos turísticos por lo que los visitantes son los que probablemente viajan con mayor frecuencia a esas zonas. "
   ]
  },
  {
   "cell_type": "markdown",
   "metadata": {},
   "source": [
    "## Prueba de hipótesis\n",
    "\n",
    "Probar hipótesis de que la duración promedio de los viajes desde el Loop hasta el Aeropuerto Internacional O'Hare cambia los sábados lluviosos:\n",
    "\n",
    "a) Hipótesis nula: la duración promedio de los viajes desde el Loop hasta el Aeropuerto Internacional O'Hare no cambia los sábados lluviosos.\n",
    "\n",
    "b) Hipótesis alternativa: la duración promedio de los viajes desde el Loop hasta el Aeropuerto Internacional O'Hare cambia los sábados lluviosos. "
   ]
  },
  {
   "cell_type": "markdown",
   "metadata": {},
   "source": [
    "### Revisión de datos"
   ]
  },
  {
   "cell_type": "code",
   "execution_count": 19,
   "metadata": {},
   "outputs": [],
   "source": [
    "#almacenar datos para buen clima\n",
    "good_weather = loop_airport_trip_df.query('weather_conditions == \"Good\"')"
   ]
  },
  {
   "cell_type": "code",
   "execution_count": 20,
   "metadata": {},
   "outputs": [
    {
     "data": {
      "text/html": [
       "<div>\n",
       "<style scoped>\n",
       "    .dataframe tbody tr th:only-of-type {\n",
       "        vertical-align: middle;\n",
       "    }\n",
       "\n",
       "    .dataframe tbody tr th {\n",
       "        vertical-align: top;\n",
       "    }\n",
       "\n",
       "    .dataframe thead th {\n",
       "        text-align: right;\n",
       "    }\n",
       "</style>\n",
       "<table border=\"1\" class=\"dataframe\">\n",
       "  <thead>\n",
       "    <tr style=\"text-align: right;\">\n",
       "      <th></th>\n",
       "      <th>duration_seconds</th>\n",
       "    </tr>\n",
       "  </thead>\n",
       "  <tbody>\n",
       "    <tr>\n",
       "      <th>count</th>\n",
       "      <td>888.000000</td>\n",
       "    </tr>\n",
       "    <tr>\n",
       "      <th>mean</th>\n",
       "      <td>1999.675676</td>\n",
       "    </tr>\n",
       "    <tr>\n",
       "      <th>std</th>\n",
       "      <td>759.198268</td>\n",
       "    </tr>\n",
       "    <tr>\n",
       "      <th>min</th>\n",
       "      <td>0.000000</td>\n",
       "    </tr>\n",
       "    <tr>\n",
       "      <th>25%</th>\n",
       "      <td>1389.750000</td>\n",
       "    </tr>\n",
       "    <tr>\n",
       "      <th>50%</th>\n",
       "      <td>1800.000000</td>\n",
       "    </tr>\n",
       "    <tr>\n",
       "      <th>75%</th>\n",
       "      <td>2460.000000</td>\n",
       "    </tr>\n",
       "    <tr>\n",
       "      <th>max</th>\n",
       "      <td>7440.000000</td>\n",
       "    </tr>\n",
       "  </tbody>\n",
       "</table>\n",
       "</div>"
      ],
      "text/plain": [
       "       duration_seconds\n",
       "count        888.000000\n",
       "mean        1999.675676\n",
       "std          759.198268\n",
       "min            0.000000\n",
       "25%         1389.750000\n",
       "50%         1800.000000\n",
       "75%         2460.000000\n",
       "max         7440.000000"
      ]
     },
     "execution_count": 20,
     "metadata": {},
     "output_type": "execute_result"
    }
   ],
   "source": [
    "#revisar datos 'Good'\n",
    "good_weather.describe()"
   ]
  },
  {
   "cell_type": "code",
   "execution_count": 21,
   "metadata": {},
   "outputs": [
    {
     "data": {
      "text/plain": [
       "<function matplotlib.pyplot.show(close=None, block=None)>"
      ]
     },
     "execution_count": 21,
     "metadata": {},
     "output_type": "execute_result"
    },
    {
     "data": {
      "image/png": "[encoded data removed]",
      "text/plain": [
       "<Figure size 640x480 with 1 Axes>"
      ]
     },
     "metadata": {},
     "output_type": "display_data"
    }
   ],
   "source": [
    "#revisar outliers\n",
    "sns.boxplot(x='duration_seconds', y='weather_conditions', data = good_weather)\n",
    "\n",
    "plt.title('Good weather trips duration')\n",
    "plt.xlabel('Duration (s)')\n",
    "plt.ylabel('Weather')\n",
    "plt.show"
   ]
  },
  {
   "cell_type": "code",
   "execution_count": 22,
   "metadata": {},
   "outputs": [],
   "source": [
    "#almacenar datos para mal clima \n",
    "bad_weather = loop_airport_trip_df.query('weather_conditions == \"Bad\"')"
   ]
  },
  {
   "cell_type": "code",
   "execution_count": 23,
   "metadata": {},
   "outputs": [
    {
     "data": {
      "text/html": [
       "<div>\n",
       "<style scoped>\n",
       "    .dataframe tbody tr th:only-of-type {\n",
       "        vertical-align: middle;\n",
       "    }\n",
       "\n",
       "    .dataframe tbody tr th {\n",
       "        vertical-align: top;\n",
       "    }\n",
       "\n",
       "    .dataframe thead th {\n",
       "        text-align: right;\n",
       "    }\n",
       "</style>\n",
       "<table border=\"1\" class=\"dataframe\">\n",
       "  <thead>\n",
       "    <tr style=\"text-align: right;\">\n",
       "      <th></th>\n",
       "      <th>duration_seconds</th>\n",
       "    </tr>\n",
       "  </thead>\n",
       "  <tbody>\n",
       "    <tr>\n",
       "      <th>count</th>\n",
       "      <td>180.000000</td>\n",
       "    </tr>\n",
       "    <tr>\n",
       "      <th>mean</th>\n",
       "      <td>2427.205556</td>\n",
       "    </tr>\n",
       "    <tr>\n",
       "      <th>std</th>\n",
       "      <td>721.314138</td>\n",
       "    </tr>\n",
       "    <tr>\n",
       "      <th>min</th>\n",
       "      <td>480.000000</td>\n",
       "    </tr>\n",
       "    <tr>\n",
       "      <th>25%</th>\n",
       "      <td>1962.000000</td>\n",
       "    </tr>\n",
       "    <tr>\n",
       "      <th>50%</th>\n",
       "      <td>2540.000000</td>\n",
       "    </tr>\n",
       "    <tr>\n",
       "      <th>75%</th>\n",
       "      <td>2928.000000</td>\n",
       "    </tr>\n",
       "    <tr>\n",
       "      <th>max</th>\n",
       "      <td>4980.000000</td>\n",
       "    </tr>\n",
       "  </tbody>\n",
       "</table>\n",
       "</div>"
      ],
      "text/plain": [
       "       duration_seconds\n",
       "count        180.000000\n",
       "mean        2427.205556\n",
       "std          721.314138\n",
       "min          480.000000\n",
       "25%         1962.000000\n",
       "50%         2540.000000\n",
       "75%         2928.000000\n",
       "max         4980.000000"
      ]
     },
     "execution_count": 23,
     "metadata": {},
     "output_type": "execute_result"
    }
   ],
   "source": [
    "#revisar datos 'Bad'\n",
    "bad_weather.describe()"
   ]
  },
  {
   "cell_type": "code",
   "execution_count": 24,
   "metadata": {},
   "outputs": [
    {
     "data": {
      "text/plain": [
       "<function matplotlib.pyplot.show(close=None, block=None)>"
      ]
     },
     "execution_count": 24,
     "metadata": {},
     "output_type": "execute_result"
    },
    {
     "data": {
      "image/png": "[encoded data removed]",
      "text/plain": [
       "<Figure size 640x480 with 1 Axes>"
      ]
     },
     "metadata": {},
     "output_type": "display_data"
    }
   ],
   "source": [
    "#revisar outliers\n",
    "sns.boxplot(x='duration_seconds', y='weather_conditions', data=bad_weather)\n",
    "\n",
    "plt.title('Bad weather trips duration')\n",
    "plt.xlabel('Duration (s)')\n",
    "plt.ylabel('Weather')\n",
    "plt.show"
   ]
  },
  {
   "cell_type": "markdown",
   "metadata": {},
   "source": [
    "### Eliminar outliers"
   ]
  },
  {
   "cell_type": "code",
   "execution_count": 25,
   "metadata": {},
   "outputs": [
    {
     "data": {
      "text/plain": [
       "4065.375"
      ]
     },
     "execution_count": 25,
     "metadata": {},
     "output_type": "execute_result"
    }
   ],
   "source": [
    "#calcular outliers good_weather\n",
    "\n",
    "good_q1 = good_weather['duration_seconds'].quantile(0.25)\n",
    "good_q3 = good_weather['duration_seconds'].quantile(0.75)\n",
    "good_iqr = good_q3 - good_q1\n",
    "\n",
    "good_weather_outliers = good_q3 + 1.5*good_iqr\n",
    "good_weather_outliers"
   ]
  },
  {
   "cell_type": "code",
   "execution_count": 26,
   "metadata": {},
   "outputs": [
    {
     "data": {
      "text/plain": [
       "4377.0"
      ]
     },
     "execution_count": 26,
     "metadata": {},
     "output_type": "execute_result"
    }
   ],
   "source": [
    "#calcular outliers bad_weather\n",
    "\n",
    "bad_q1 = bad_weather['duration_seconds'].quantile(0.25)\n",
    "bad_q3 = bad_weather['duration_seconds'].quantile(0.75)\n",
    "bad_iqr = bad_q3 - bad_q1\n",
    "\n",
    "bad_weather_outliers = bad_q3 + 1.5*bad_iqr\n",
    "bad_weather_outliers"
   ]
  },
  {
   "cell_type": "code",
   "execution_count": 27,
   "metadata": {},
   "outputs": [],
   "source": [
    "#calcular variables sin outliers\n",
    "\n",
    "#good_weather\n",
    "good_weather_no_outliers = good_weather.query(\"duration_seconds < @good_weather_outliers\")['duration_seconds']\n",
    "                           \n",
    "#bad_weather\n",
    "bad_weather_no_outliers = bad_weather.query(\"duration_seconds < @bad_weather_outliers\")['duration_seconds']"
   ]
  },
  {
   "cell_type": "markdown",
   "metadata": {},
   "source": [
    "### Varianzas\n"
   ]
  },
  {
   "cell_type": "code",
   "execution_count": 28,
   "metadata": {},
   "outputs": [
    {
     "name": "stdout",
     "output_type": "stream",
     "text": [
      "p_value: 0.6573128431498012\n",
      "No podemos descartar la hipótesis nula\n"
     ]
    }
   ],
   "source": [
    "#comparar si las varianzas de las variables son iguales\n",
    "alpha= 0.05\n",
    "\n",
    "results = st.levene(good_weather_no_outliers, bad_weather_no_outliers)\n",
    "\n",
    "print('p_value:', results.pvalue)\n",
    "\n",
    "if results.pvalue < alpha: \n",
    "    print('Podemos descartar la hipótesis nula. Varianzas diferentes')\n",
    "else:\n",
    "    print('No podemos descartar la hipótesis nula')"
   ]
  },
  {
   "cell_type": "markdown",
   "metadata": {},
   "source": [
    "### Testeo hipótesis"
   ]
  },
  {
   "cell_type": "code",
   "execution_count": 29,
   "metadata": {},
   "outputs": [
    {
     "name": "stdout",
     "output_type": "stream",
     "text": [
      "p_value: 4.935453982841293e-13\n",
      "Podemos descartar la hipótesis nula. El promedio de duración de los viajes Loop-Aeropuerto, cambia dependiendo del clima\n"
     ]
    }
   ],
   "source": [
    "alpha= 0.05\n",
    "\n",
    "results = st.ttest_ind(good_weather_no_outliers, bad_weather_no_outliers, equal_var=False)\n",
    "\n",
    "print('p_value:', results.pvalue)\n",
    "\n",
    "if results.pvalue < alpha: \n",
    "    print('Podemos descartar la hipótesis nula. El promedio de duración de los viajes Loop-Aeropuerto, cambia dependiendo del clima')\n",
    "else:\n",
    "    print('No podemos descartar la hipótesis nula')"
   ]
  },
  {
   "cell_type": "markdown",
   "metadata": {},
   "source": [
    "### Hipótesis derivada\n",
    "\n",
    "Probar hipótesis de que la duración promedio de los viajes desde el Loop hasta el Aeropuerto Internacional O'Hare es mayor los sábados lluviosos:\n",
    "\n",
    "a) Hipótesis nula: la duración promedio de los viajes desde el Loop hasta el Aeropuerto Internacional O'Hare no cambia los sábados lluviosos.\n",
    "\n",
    "b) Hipótesis alternativa: la duración promedio de los viajes desde el Loop hasta el Aeropuerto Internacional O'Hare es mayor los sábados lluviosos.\n"
   ]
  },
  {
   "cell_type": "code",
   "execution_count": 30,
   "metadata": {},
   "outputs": [
    {
     "name": "stdout",
     "output_type": "stream",
     "text": [
      "p_value: 2.4677269914206463e-13\n",
      "Podemos descartar la hipótesis nula. El promedio de duración de los viajes Loop-Aeropuerto es mayor en un sábado lluvioso.\n"
     ]
    }
   ],
   "source": [
    "alpha= 0.05\n",
    "\n",
    "results = st.ttest_ind(bad_weather_no_outliers, good_weather_no_outliers, equal_var=False, alternative='greater')\n",
    "\n",
    "print('p_value:', results.pvalue)\n",
    "\n",
    "if results.pvalue < alpha: \n",
    "    print('Podemos descartar la hipótesis nula. El promedio de duración de los viajes Loop-Aeropuerto es mayor en un sábado lluvioso.')\n",
    "else:\n",
    "    print('No podemos descartar la hipótesis nula. El promedio de duración de los viajes Loop-Aeropuerto, no cambia dependiendo del clima.')"
   ]
  },
  {
   "cell_type": "markdown",
   "metadata": {},
   "source": [
    "### Conclusiones\n",
    "\n",
    "Para iniciar el análisis de hipótesis estadísticas, se revisaron los datos de todas las variables utilizando el método describe() y se identificaron valores atípicos mediante diagramas de caja. Dado que la cantidad de outliers era baja en comparación con el total de datos, se optó por eliminarlos para evitar sesgar los resultados en las pruebas de hipótesis. Para el testeo de hipótesis, se eligió la prueba t-test, ya que se estaba comparando promedios, y se estableció un nivel de significancia (𝛼) de 0.05, un valor estándar en este tipo de análisis. Además, antes de realizar la prueba, se verificó la igualdad de las varianzas.\n",
    "\n",
    "En primer lugar, se evaluó si las condiciones climáticas influían en el promedio del tiempo de viaje los sábados, lo que resultó en el rechazo de la hipótesis nula. Posteriormente, se diseñó una nueva prueba para comprobar si el promedio de los viajes en sábados lluviosos era mayor, lo cual confirmó la hipótesis planteada."
   ]
  },
  {
   "cell_type": "markdown",
   "metadata": {},
   "source": [
    "## Conclusión general \n",
    "Para comenzar el análisis de datos, se cargaron las librerías necesarias y luego se importaron los DataFrames: company_trips_df, trips_df y loop_airport_df. Se revisaron las columnas y filas de cada tabla, comprobando que no contenían datos nulos. El análisis inicial se realizó utilizando los métodos info(), head() y describe(). Posteriormente, se decidió convertir los datos de la columna average_trips de la tabla trips_df de tipo float a int para simplificar su manejo.\n",
    "\n",
    "A continuación, se identificaron las compañías y destinos más populares, resultando en Flash Cab como la compañía más frecuente y Loop y River North como los destinos principales.\n",
    "\n",
    "Para concluir el análisis, se puso a prueba la hipótesis de que la duración promedio de los viajes desde Loop hasta el Aeropuerto Internacional O'Hare varía en los sábados lluviosos. Se utilizó una prueba t-test con un nivel de significancia de 0.05. Los resultados iniciales llevaron al rechazo de la hipótesis nula, lo que dio lugar a una hipótesis secundaria: la duración promedio de los viajes desde Loop hasta O'Hare es mayor los sábados lluviosos. Esta nueva hipótesis fue aceptada tras la prueba estadística."
   ]
  }
 ],
 "metadata": {
  "ExecuteTimeLog": [
   {
    "duration": 2605,
    "start_time": "2024-10-09T13:42:19.172Z"
   },
   {
    "duration": 578,
    "start_time": "2024-10-09T13:43:49.222Z"
   },
   {
    "duration": 63,
    "start_time": "2024-10-09T13:43:56.003Z"
   },
   {
    "duration": 60,
    "start_time": "2024-10-09T13:46:37.911Z"
   },
   {
    "duration": 13,
    "start_time": "2024-10-09T14:16:20.720Z"
   },
   {
    "duration": 11,
    "start_time": "2024-10-09T14:25:38.656Z"
   },
   {
    "duration": 9,
    "start_time": "2024-10-09T14:27:26.223Z"
   },
   {
    "duration": 5,
    "start_time": "2024-10-09T14:28:21.171Z"
   },
   {
    "duration": 9,
    "start_time": "2024-10-09T14:30:15.011Z"
   },
   {
    "duration": 18,
    "start_time": "2024-10-09T14:30:54.595Z"
   },
   {
    "duration": 9,
    "start_time": "2024-10-09T14:31:08.472Z"
   },
   {
    "duration": 11,
    "start_time": "2024-10-09T14:31:10.564Z"
   },
   {
    "duration": 5,
    "start_time": "2024-10-09T14:31:15.391Z"
   },
   {
    "duration": 9,
    "start_time": "2024-10-09T14:31:17.381Z"
   },
   {
    "duration": 8,
    "start_time": "2024-10-09T14:31:21.401Z"
   },
   {
    "duration": 816,
    "start_time": "2024-10-09T15:07:26.917Z"
   },
   {
    "duration": 14,
    "start_time": "2024-10-09T15:07:27.735Z"
   },
   {
    "duration": 10,
    "start_time": "2024-10-09T15:07:27.751Z"
   },
   {
    "duration": 4,
    "start_time": "2024-10-09T15:07:27.763Z"
   },
   {
    "duration": 10,
    "start_time": "2024-10-09T15:07:27.769Z"
   },
   {
    "duration": 8,
    "start_time": "2024-10-09T15:07:27.781Z"
   },
   {
    "duration": 9,
    "start_time": "2024-10-09T15:07:52.550Z"
   },
   {
    "duration": 16,
    "start_time": "2024-10-09T15:09:20.487Z"
   },
   {
    "duration": 3,
    "start_time": "2024-10-09T23:30:26.992Z"
   },
   {
    "duration": 2570,
    "start_time": "2024-10-09T23:30:34.808Z"
   },
   {
    "duration": 12,
    "start_time": "2024-10-09T23:30:37.380Z"
   },
   {
    "duration": 17,
    "start_time": "2024-10-09T23:30:37.394Z"
   },
   {
    "duration": 5,
    "start_time": "2024-10-09T23:30:37.413Z"
   },
   {
    "duration": 12,
    "start_time": "2024-10-09T23:30:37.421Z"
   },
   {
    "duration": 8,
    "start_time": "2024-10-09T23:30:37.435Z"
   },
   {
    "duration": 8,
    "start_time": "2024-10-09T23:30:37.445Z"
   },
   {
    "duration": 8,
    "start_time": "2024-10-09T23:30:37.454Z"
   },
   {
    "duration": 2,
    "start_time": "2024-10-09T23:30:37.464Z"
   },
   {
    "duration": 7,
    "start_time": "2024-10-09T23:31:01.506Z"
   },
   {
    "duration": 3,
    "start_time": "2024-10-09T23:32:20.338Z"
   },
   {
    "duration": 153,
    "start_time": "2024-10-09T23:33:53.709Z"
   },
   {
    "duration": 4,
    "start_time": "2024-10-09T23:34:08.385Z"
   },
   {
    "duration": 161,
    "start_time": "2024-10-09T23:34:10.252Z"
   },
   {
    "duration": 7,
    "start_time": "2024-10-09T23:34:22.111Z"
   },
   {
    "duration": 7,
    "start_time": "2024-10-09T23:34:44.634Z"
   },
   {
    "duration": 6,
    "start_time": "2024-10-09T23:34:54.631Z"
   },
   {
    "duration": 6,
    "start_time": "2024-10-09T23:50:52.173Z"
   },
   {
    "duration": 159,
    "start_time": "2024-10-09T23:50:57.009Z"
   },
   {
    "duration": 174,
    "start_time": "2024-10-09T23:52:26.877Z"
   },
   {
    "duration": 6,
    "start_time": "2024-10-09T23:57:03.442Z"
   },
   {
    "duration": 724,
    "start_time": "2024-10-10T00:01:20.523Z"
   },
   {
    "duration": 196,
    "start_time": "2024-10-10T00:02:56.241Z"
   },
   {
    "duration": 180,
    "start_time": "2024-10-10T00:03:13.119Z"
   },
   {
    "duration": 174,
    "start_time": "2024-10-10T00:03:21.866Z"
   },
   {
    "duration": 179,
    "start_time": "2024-10-10T00:03:30.240Z"
   },
   {
    "duration": 178,
    "start_time": "2024-10-10T00:03:40.260Z"
   },
   {
    "duration": 153,
    "start_time": "2024-10-10T00:03:48.228Z"
   },
   {
    "duration": 157,
    "start_time": "2024-10-10T00:04:01.813Z"
   },
   {
    "duration": 4,
    "start_time": "2024-10-10T00:04:39.182Z"
   },
   {
    "duration": 546,
    "start_time": "2024-10-10T00:04:53.058Z"
   },
   {
    "duration": 246,
    "start_time": "2024-10-10T00:04:57.388Z"
   },
   {
    "duration": 142,
    "start_time": "2024-10-10T00:05:55.530Z"
   },
   {
    "duration": 270,
    "start_time": "2024-10-10T00:06:05.624Z"
   },
   {
    "duration": 14,
    "start_time": "2024-10-10T00:31:55.645Z"
   },
   {
    "duration": 8,
    "start_time": "2024-10-10T00:32:07.648Z"
   },
   {
    "duration": 6,
    "start_time": "2024-10-10T00:32:35.221Z"
   },
   {
    "duration": 164,
    "start_time": "2024-10-10T00:32:40.735Z"
   },
   {
    "duration": 7,
    "start_time": "2024-10-10T00:33:37.550Z"
   },
   {
    "duration": 144,
    "start_time": "2024-10-10T00:33:40.762Z"
   },
   {
    "duration": 3,
    "start_time": "2024-10-10T00:38:23.267Z"
   },
   {
    "duration": 9,
    "start_time": "2024-10-10T00:38:42.310Z"
   },
   {
    "duration": 7,
    "start_time": "2024-10-10T00:40:00.038Z"
   },
   {
    "duration": 143,
    "start_time": "2024-10-10T00:40:02.592Z"
   },
   {
    "duration": 2,
    "start_time": "2024-10-10T00:43:44.668Z"
   },
   {
    "duration": 312,
    "start_time": "2024-10-10T00:44:06.850Z"
   },
   {
    "duration": 8,
    "start_time": "2024-10-10T00:44:27.294Z"
   },
   {
    "duration": 7,
    "start_time": "2024-10-10T00:44:43.414Z"
   },
   {
    "duration": 7,
    "start_time": "2024-10-10T00:44:58.414Z"
   },
   {
    "duration": 9,
    "start_time": "2024-10-10T00:45:05.076Z"
   },
   {
    "duration": 10,
    "start_time": "2024-10-10T00:45:27.548Z"
   },
   {
    "duration": 9,
    "start_time": "2024-10-10T00:46:01.836Z"
   },
   {
    "duration": 3,
    "start_time": "2024-10-10T01:07:16.835Z"
   },
   {
    "duration": 7,
    "start_time": "2024-10-10T01:13:49.146Z"
   },
   {
    "duration": 7,
    "start_time": "2024-10-10T01:13:50.851Z"
   },
   {
    "duration": 10,
    "start_time": "2024-10-10T01:13:52.499Z"
   },
   {
    "duration": 3,
    "start_time": "2024-10-10T01:15:24.969Z"
   },
   {
    "duration": 5,
    "start_time": "2024-10-10T01:16:14.573Z"
   },
   {
    "duration": 178,
    "start_time": "2024-10-10T01:16:29.132Z"
   },
   {
    "duration": 12,
    "start_time": "2024-10-10T01:16:35.467Z"
   },
   {
    "duration": 14,
    "start_time": "2024-10-10T01:16:40.831Z"
   },
   {
    "duration": 30,
    "start_time": "2024-10-10T01:17:35.473Z"
   },
   {
    "duration": 4,
    "start_time": "2024-10-10T01:20:34.864Z"
   },
   {
    "duration": 9,
    "start_time": "2024-10-10T01:20:36.479Z"
   },
   {
    "duration": 5,
    "start_time": "2024-10-10T01:22:29.018Z"
   },
   {
    "duration": 298,
    "start_time": "2024-10-10T01:22:35.497Z"
   },
   {
    "duration": 46,
    "start_time": "2024-10-10T01:22:37.338Z"
   },
   {
    "duration": 90,
    "start_time": "2024-10-10T01:22:48.705Z"
   },
   {
    "duration": 100,
    "start_time": "2024-10-10T01:24:42.396Z"
   },
   {
    "duration": 109,
    "start_time": "2024-10-10T01:25:22.513Z"
   },
   {
    "duration": 114,
    "start_time": "2024-10-10T01:25:48.937Z"
   },
   {
    "duration": 103,
    "start_time": "2024-10-10T01:25:51.124Z"
   },
   {
    "duration": 110,
    "start_time": "2024-10-10T01:26:19.403Z"
   },
   {
    "duration": 107,
    "start_time": "2024-10-10T01:27:11.747Z"
   },
   {
    "duration": 108,
    "start_time": "2024-10-10T01:27:32.249Z"
   },
   {
    "duration": 800,
    "start_time": "2024-10-10T01:28:13.195Z"
   },
   {
    "duration": 19,
    "start_time": "2024-10-10T01:28:13.998Z"
   },
   {
    "duration": 9,
    "start_time": "2024-10-10T01:28:14.019Z"
   },
   {
    "duration": 7,
    "start_time": "2024-10-10T01:28:14.031Z"
   },
   {
    "duration": 12,
    "start_time": "2024-10-10T01:28:14.042Z"
   },
   {
    "duration": 9,
    "start_time": "2024-10-10T01:28:14.056Z"
   },
   {
    "duration": 10,
    "start_time": "2024-10-10T01:28:14.108Z"
   },
   {
    "duration": 12,
    "start_time": "2024-10-10T01:28:14.121Z"
   },
   {
    "duration": 5,
    "start_time": "2024-10-10T01:28:14.135Z"
   },
   {
    "duration": 10,
    "start_time": "2024-10-10T01:28:14.142Z"
   },
   {
    "duration": 9,
    "start_time": "2024-10-10T01:28:14.155Z"
   },
   {
    "duration": 48,
    "start_time": "2024-10-10T01:28:14.166Z"
   },
   {
    "duration": 4,
    "start_time": "2024-10-10T01:28:14.216Z"
   },
   {
    "duration": 11,
    "start_time": "2024-10-10T01:28:14.223Z"
   },
   {
    "duration": 9,
    "start_time": "2024-10-10T01:28:14.236Z"
   },
   {
    "duration": 208,
    "start_time": "2024-10-10T01:28:14.247Z"
   },
   {
    "duration": 8,
    "start_time": "2024-10-10T01:28:14.457Z"
   },
   {
    "duration": 171,
    "start_time": "2024-10-10T01:28:14.467Z"
   },
   {
    "duration": 7,
    "start_time": "2024-10-10T01:28:14.640Z"
   },
   {
    "duration": 11,
    "start_time": "2024-10-10T01:28:14.648Z"
   },
   {
    "duration": 212,
    "start_time": "2024-10-10T01:28:14.661Z"
   },
   {
    "duration": 114,
    "start_time": "2024-10-10T01:28:30.827Z"
   },
   {
    "duration": 4,
    "start_time": "2024-10-10T01:29:00.088Z"
   },
   {
    "duration": 10,
    "start_time": "2024-10-10T01:29:12.231Z"
   },
   {
    "duration": 97,
    "start_time": "2024-10-10T01:29:45.343Z"
   },
   {
    "duration": 112,
    "start_time": "2024-10-10T01:30:10.616Z"
   },
   {
    "duration": 8,
    "start_time": "2024-10-10T01:32:15.503Z"
   },
   {
    "duration": 6,
    "start_time": "2024-10-10T01:33:05.558Z"
   },
   {
    "duration": 6,
    "start_time": "2024-10-10T01:33:56.397Z"
   },
   {
    "duration": 4,
    "start_time": "2024-10-10T01:36:39.950Z"
   },
   {
    "duration": 218,
    "start_time": "2024-10-10T01:39:07.952Z"
   },
   {
    "duration": 7,
    "start_time": "2024-10-10T01:39:29.223Z"
   },
   {
    "duration": 5,
    "start_time": "2024-10-10T01:39:33.571Z"
   },
   {
    "duration": 4,
    "start_time": "2024-10-10T01:46:22.790Z"
   },
   {
    "duration": 5,
    "start_time": "2024-10-10T01:50:49.541Z"
   },
   {
    "duration": 5,
    "start_time": "2024-10-10T01:52:04.098Z"
   },
   {
    "duration": 895,
    "start_time": "2024-10-10T02:14:49.309Z"
   },
   {
    "duration": 12,
    "start_time": "2024-10-10T02:14:50.206Z"
   },
   {
    "duration": 8,
    "start_time": "2024-10-10T02:14:50.220Z"
   },
   {
    "duration": 4,
    "start_time": "2024-10-10T02:14:50.231Z"
   },
   {
    "duration": 10,
    "start_time": "2024-10-10T02:14:50.237Z"
   },
   {
    "duration": 8,
    "start_time": "2024-10-10T02:14:50.249Z"
   },
   {
    "duration": 9,
    "start_time": "2024-10-10T02:14:50.259Z"
   },
   {
    "duration": 46,
    "start_time": "2024-10-10T02:14:50.270Z"
   },
   {
    "duration": 5,
    "start_time": "2024-10-10T02:14:50.319Z"
   },
   {
    "duration": 6,
    "start_time": "2024-10-10T02:14:50.327Z"
   },
   {
    "duration": 11,
    "start_time": "2024-10-10T02:14:50.335Z"
   },
   {
    "duration": 10,
    "start_time": "2024-10-10T02:14:50.348Z"
   },
   {
    "duration": 3,
    "start_time": "2024-10-10T02:14:50.359Z"
   },
   {
    "duration": 44,
    "start_time": "2024-10-10T02:14:50.364Z"
   },
   {
    "duration": 8,
    "start_time": "2024-10-10T02:14:50.410Z"
   },
   {
    "duration": 205,
    "start_time": "2024-10-10T02:14:50.420Z"
   },
   {
    "duration": 7,
    "start_time": "2024-10-10T02:14:50.627Z"
   },
   {
    "duration": 161,
    "start_time": "2024-10-10T02:14:50.636Z"
   },
   {
    "duration": 10,
    "start_time": "2024-10-10T02:14:50.799Z"
   },
   {
    "duration": 11,
    "start_time": "2024-10-10T02:14:50.811Z"
   },
   {
    "duration": 150,
    "start_time": "2024-10-10T02:14:50.823Z"
   },
   {
    "duration": 5,
    "start_time": "2024-10-10T02:14:50.975Z"
   },
   {
    "duration": 10,
    "start_time": "2024-10-10T02:14:50.981Z"
   },
   {
    "duration": 102,
    "start_time": "2024-10-10T02:14:50.993Z"
   },
   {
    "duration": 6,
    "start_time": "2024-10-10T02:14:51.110Z"
   },
   {
    "duration": 5,
    "start_time": "2024-10-10T02:14:51.118Z"
   },
   {
    "duration": 6,
    "start_time": "2024-10-10T02:14:51.124Z"
   },
   {
    "duration": 4,
    "start_time": "2024-10-10T02:14:51.133Z"
   },
   {
    "duration": 4,
    "start_time": "2024-10-10T02:14:51.138Z"
   },
   {
    "duration": 4,
    "start_time": "2024-10-10T02:14:51.144Z"
   },
   {
    "duration": 818,
    "start_time": "2024-10-10T02:17:06.396Z"
   },
   {
    "duration": 13,
    "start_time": "2024-10-10T02:17:07.217Z"
   },
   {
    "duration": 10,
    "start_time": "2024-10-10T02:17:07.232Z"
   },
   {
    "duration": 4,
    "start_time": "2024-10-10T02:17:07.246Z"
   },
   {
    "duration": 9,
    "start_time": "2024-10-10T02:17:07.254Z"
   },
   {
    "duration": 9,
    "start_time": "2024-10-10T02:17:07.265Z"
   },
   {
    "duration": 41,
    "start_time": "2024-10-10T02:17:07.276Z"
   },
   {
    "duration": 10,
    "start_time": "2024-10-10T02:17:07.319Z"
   },
   {
    "duration": 5,
    "start_time": "2024-10-10T02:17:07.331Z"
   },
   {
    "duration": 7,
    "start_time": "2024-10-10T02:17:07.338Z"
   },
   {
    "duration": 9,
    "start_time": "2024-10-10T02:17:07.346Z"
   },
   {
    "duration": 11,
    "start_time": "2024-10-10T02:17:07.357Z"
   },
   {
    "duration": 3,
    "start_time": "2024-10-10T02:17:07.369Z"
   },
   {
    "duration": 10,
    "start_time": "2024-10-10T02:17:07.409Z"
   },
   {
    "duration": 7,
    "start_time": "2024-10-10T02:17:07.422Z"
   },
   {
    "duration": 190,
    "start_time": "2024-10-10T02:17:07.432Z"
   },
   {
    "duration": 6,
    "start_time": "2024-10-10T02:17:07.624Z"
   },
   {
    "duration": 164,
    "start_time": "2024-10-10T02:17:07.632Z"
   },
   {
    "duration": 13,
    "start_time": "2024-10-10T02:17:07.797Z"
   },
   {
    "duration": 12,
    "start_time": "2024-10-10T02:17:07.812Z"
   },
   {
    "duration": 160,
    "start_time": "2024-10-10T02:17:07.826Z"
   },
   {
    "duration": 4,
    "start_time": "2024-10-10T02:17:07.988Z"
   },
   {
    "duration": 19,
    "start_time": "2024-10-10T02:17:07.994Z"
   },
   {
    "duration": 96,
    "start_time": "2024-10-10T02:17:08.015Z"
   },
   {
    "duration": 6,
    "start_time": "2024-10-10T02:17:08.113Z"
   },
   {
    "duration": 6,
    "start_time": "2024-10-10T02:17:08.121Z"
   },
   {
    "duration": 6,
    "start_time": "2024-10-10T02:17:08.128Z"
   },
   {
    "duration": 5,
    "start_time": "2024-10-10T02:17:08.136Z"
   },
   {
    "duration": 5,
    "start_time": "2024-10-10T02:17:08.142Z"
   },
   {
    "duration": 4,
    "start_time": "2024-10-10T02:17:08.148Z"
   }
  ],
  "kernelspec": {
   "display_name": "Python 3 (ipykernel)",
   "language": "python",
   "name": "python3"
  },
  "language_info": {
   "codemirror_mode": {
    "name": "ipython",
    "version": 3
   },
   "file_extension": ".py",
   "mimetype": "text/x-python",
   "name": "python",
   "nbconvert_exporter": "python",
   "pygments_lexer": "ipython3",
   "version": "3.9.19"
  },
  "toc": {
   "base_numbering": 1,
   "nav_menu": {},
   "number_sections": true,
   "sideBar": true,
   "skip_h1_title": true,
   "title_cell": "Table of Contents",
   "title_sidebar": "Contents",
   "toc_cell": false,
   "toc_position": {
    "height": "calc(100% - 180px)",
    "left": "10px",
    "top": "150px",
    "width": "268px"
   },
   "toc_section_display": true,
   "toc_window_display": true
  }
 },
 "nbformat": 4,
 "nbformat_minor": 2
}
